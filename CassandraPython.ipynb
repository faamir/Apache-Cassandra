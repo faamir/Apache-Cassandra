{
 "cells": [
  {
   "cell_type": "markdown",
   "metadata": {},
   "source": [
    "# Cassandra"
   ]
  },
  {
   "cell_type": "code",
   "execution_count": null,
   "metadata": {},
   "outputs": [],
   "source": [
    "\"\"\"\n",
    "cqlsh\n",
    "\n",
    "CREATE KEYSPACE movie_space WITH replication = {'class': 'SimpleStrategy', 'replication_factor': 1};\n",
    "use movie_space;\n",
    "\n",
    "CREATE TABLE movie_table(movieid int PRIMARY KEY, titles text, genre text);\n",
    "CREATE TABLE rating_table(userid int, movieid int, rating double, timestamps bigint, primary key((userid), movieid));\n",
    "\n",
    "COPY movie_table(movieid, titles, genre) FROM 'C:\\data\\ml-latest-small/movies.csv' WITH HEADER = true;\n",
    "COPY rating_table(userid, movieid, rating, timestamps) FROM 'C:\\data\\ml-latest-small/ratings.csv' WITH HEADER = true;\n",
    "\n",
    "SELECT * from movie_space.rating_table LIMIT 20;\n",
    "INSERT INTO movie_space.rating_table (userid, movieid, rating) VALUES (1,2,3);\n",
    "select * from movie_space.rating_table WHERE userid =1 LIMIT 20;\n",
    "DELETE FROM movie_space.rating_table where userid = 1;\n",
    "select * from movie_space.rating_table WHERE userid =1;\n",
    "select * from movie_space.rating_table WHERE userid=23 ORDER BY movieid ASC LIMIT 30;\n",
    "\"\"\"\n",
    "\n",
    "\n",
    "\n",
    "\n",
    "\n",
    "\n",
    "\n",
    "\n",
    "\n",
    "\"\"\"\n",
    "DESCRIBE KEYSPACES;\n",
    "DESCRIBE TABLES;\n",
    "nodetool status                      :provide info & summary about cluster\n",
    "nodetool info                          :cache for high memory consumption\n",
    "nodetool tpstats           :statistics about active,pending & completed tasks for each stage of cassandra ops\n",
    "nodetool cfstats movie_space.rating_table\n",
    "\n",
    "ALTER KEYSPACE movie_space WITH REPLICATION = { 'class' : 'NetworkTopologyStrategy','datacenter1' : 3 };\n",
    "DESCRIBE SCHEMA;\n",
    "DROP keyspace movie_space;\n",
    "\n",
    "\"\"\"\n",
    "\n",
    "\n",
    "\n",
    "\n",
    "\"\"\"\n",
    "alter table rating_table drop rating;\n",
    "alter table rating_table add rating2 text;\n",
    "nodetool netstats                   :network info for the node\n",
    "\"\"\""
   ]
  },
  {
   "cell_type": "code",
   "execution_count": 1,
   "metadata": {},
   "outputs": [],
   "source": [
    "#import and config pyspark\n",
    "\n",
    "from pyspark.sql import SparkSession\n",
    "from pyspark.sql.functions import length\n",
    "from matplotlib import pyplot as plt\n",
    "import sys\n",
    "import gc\n",
    "import numpy as np\n",
    "import pandas as pd\n",
    "from collections import Counter\n",
    "\n",
    "spark = SparkSession.builder.\\\n",
    "    config(\"spark.executor.memory\", \"4g\")\\\n",
    "                  .master('local[*]') \\\n",
    "    .appName('project').getOrCreate()\n",
    "sc = spark.sparkContext\n"
   ]
  },
  {
   "cell_type": "code",
   "execution_count": 2,
   "metadata": {},
   "outputs": [],
   "source": [
    "# Creating PySpark SQL Context\n",
    "from pyspark.sql import SQLContext\n",
    "sqlContext = SQLContext(sc)"
   ]
  },
  {
   "cell_type": "code",
   "execution_count": 3,
   "metadata": {},
   "outputs": [
    {
     "name": "stdout",
     "output_type": "stream",
     "text": [
      "average of ratings:  3.501556983616962\n",
      "unique movie_ids:  9724\n",
      "unique user_ids: 610\n",
      "get No. of movie_id=365:  329\n"
     ]
    }
   ],
   "source": [
    "from cassandra.cluster import Cluster\n",
    "\n",
    "cluster = Cluster()\n",
    "session = cluster.connect()\n",
    "\n",
    "session = cluster.connect('movie_space')\n",
    "#session.execute('USE  movie_space')\n",
    "\n",
    "rows = session.execute('SELECT * from rating_table')\n",
    "movie_ids = []\n",
    "user_ids = []\n",
    "ratings = []\n",
    "for user_row in rows:\n",
    "    #print(user_row.rating)\n",
    "    #print(user_row.movieid)\n",
    "    #print(user_row.userid)\n",
    "    #print(user_row)\n",
    "    movie_ids.append(user_row.movieid)\n",
    "    user_ids.append(user_row.userid)\n",
    "    ratings.append(user_row.rating)\n",
    "#print(\"movie_ids\", movie_ids)\n",
    "print(\"average of ratings: \", np.average(ratings))\n",
    "print(\"unique movie_ids: \",len(np.unique(movie_ids)))\n",
    "print(\"unique user_ids:\",len(np.unique(user_ids)))\n",
    "z = Counter(movie_ids)\n",
    "print(\"get No. of movie_id=365: \",z.get(356))\n",
    "#print(\"movie_ids and total count of each: \",z)\n",
    "\n",
    "\n",
    "    \n",
    "\n"
   ]
  },
  {
   "cell_type": "code",
   "execution_count": 8,
   "metadata": {},
   "outputs": [],
   "source": [
    "#rows = session.execute(\"CREATE KEYSPACE visi WITH replication = {'class': 'SimpleStrategy', 'replication_factor': 1};\")\n",
    "#session.execute('USE  visi')"
   ]
  },
  {
   "cell_type": "code",
   "execution_count": 4,
   "metadata": {},
   "outputs": [],
   "source": [
    "#cassandra and pandas\n",
    "query = 'SELECT * from rating_table'\n",
    "df = pd.DataFrame(list(session.execute(query)))"
   ]
  },
  {
   "cell_type": "code",
   "execution_count": 5,
   "metadata": {},
   "outputs": [
    {
     "data": {
      "text/html": [
       "<div>\n",
       "<style scoped>\n",
       "    .dataframe tbody tr th:only-of-type {\n",
       "        vertical-align: middle;\n",
       "    }\n",
       "\n",
       "    .dataframe tbody tr th {\n",
       "        vertical-align: top;\n",
       "    }\n",
       "\n",
       "    .dataframe thead th {\n",
       "        text-align: right;\n",
       "    }\n",
       "</style>\n",
       "<table border=\"1\" class=\"dataframe\">\n",
       "  <thead>\n",
       "    <tr style=\"text-align: right;\">\n",
       "      <th></th>\n",
       "      <th>userid</th>\n",
       "      <th>movieid</th>\n",
       "      <th>rating</th>\n",
       "      <th>timestamps</th>\n",
       "    </tr>\n",
       "  </thead>\n",
       "  <tbody>\n",
       "    <tr>\n",
       "      <th>0</th>\n",
       "      <td>23</td>\n",
       "      <td>6</td>\n",
       "      <td>4.0</td>\n",
       "      <td>1107342267</td>\n",
       "    </tr>\n",
       "    <tr>\n",
       "      <th>1</th>\n",
       "      <td>23</td>\n",
       "      <td>29</td>\n",
       "      <td>4.0</td>\n",
       "      <td>1107341574</td>\n",
       "    </tr>\n",
       "    <tr>\n",
       "      <th>2</th>\n",
       "      <td>23</td>\n",
       "      <td>32</td>\n",
       "      <td>3.5</td>\n",
       "      <td>1107341750</td>\n",
       "    </tr>\n",
       "    <tr>\n",
       "      <th>3</th>\n",
       "      <td>23</td>\n",
       "      <td>50</td>\n",
       "      <td>4.0</td>\n",
       "      <td>1107163741</td>\n",
       "    </tr>\n",
       "    <tr>\n",
       "      <th>4</th>\n",
       "      <td>23</td>\n",
       "      <td>58</td>\n",
       "      <td>3.0</td>\n",
       "      <td>1107164183</td>\n",
       "    </tr>\n",
       "  </tbody>\n",
       "</table>\n",
       "</div>"
      ],
      "text/plain": [
       "   userid  movieid  rating  timestamps\n",
       "0      23        6     4.0  1107342267\n",
       "1      23       29     4.0  1107341574\n",
       "2      23       32     3.5  1107341750\n",
       "3      23       50     4.0  1107163741\n",
       "4      23       58     3.0  1107164183"
      ]
     },
     "execution_count": 5,
     "metadata": {},
     "output_type": "execute_result"
    }
   ],
   "source": [
    "df.head(5)"
   ]
  },
  {
   "cell_type": "code",
   "execution_count": 6,
   "metadata": {},
   "outputs": [
    {
     "data": {
      "text/html": [
       "<div>\n",
       "<style scoped>\n",
       "    .dataframe tbody tr th:only-of-type {\n",
       "        vertical-align: middle;\n",
       "    }\n",
       "\n",
       "    .dataframe tbody tr th {\n",
       "        vertical-align: top;\n",
       "    }\n",
       "\n",
       "    .dataframe thead th {\n",
       "        text-align: right;\n",
       "    }\n",
       "</style>\n",
       "<table border=\"1\" class=\"dataframe\">\n",
       "  <thead>\n",
       "    <tr style=\"text-align: right;\">\n",
       "      <th></th>\n",
       "      <th>userid</th>\n",
       "      <th>movieid</th>\n",
       "      <th>rating</th>\n",
       "      <th>timestamps</th>\n",
       "    </tr>\n",
       "  </thead>\n",
       "  <tbody>\n",
       "    <tr>\n",
       "      <th>100833</th>\n",
       "      <td>103</td>\n",
       "      <td>140715</td>\n",
       "      <td>4.5</td>\n",
       "      <td>1440773817</td>\n",
       "    </tr>\n",
       "    <tr>\n",
       "      <th>100834</th>\n",
       "      <td>103</td>\n",
       "      <td>148626</td>\n",
       "      <td>5.0</td>\n",
       "      <td>1477364363</td>\n",
       "    </tr>\n",
       "    <tr>\n",
       "      <th>100835</th>\n",
       "      <td>103</td>\n",
       "      <td>168250</td>\n",
       "      <td>3.0</td>\n",
       "      <td>1522172079</td>\n",
       "    </tr>\n",
       "  </tbody>\n",
       "</table>\n",
       "</div>"
      ],
      "text/plain": [
       "        userid  movieid  rating  timestamps\n",
       "100833     103   140715     4.5  1440773817\n",
       "100834     103   148626     5.0  1477364363\n",
       "100835     103   168250     3.0  1522172079"
      ]
     },
     "execution_count": 6,
     "metadata": {},
     "output_type": "execute_result"
    }
   ],
   "source": [
    "df.tail(3)"
   ]
  },
  {
   "cell_type": "code",
   "execution_count": 7,
   "metadata": {},
   "outputs": [
    {
     "data": {
      "text/plain": [
       "userid          int64\n",
       "movieid         int64\n",
       "rating        float64\n",
       "timestamps      int64\n",
       "dtype: object"
      ]
     },
     "execution_count": 7,
     "metadata": {},
     "output_type": "execute_result"
    }
   ],
   "source": [
    "df.dtypes"
   ]
  },
  {
   "cell_type": "code",
   "execution_count": 8,
   "metadata": {},
   "outputs": [
    {
     "data": {
      "text/html": [
       "<div>\n",
       "<style scoped>\n",
       "    .dataframe tbody tr th:only-of-type {\n",
       "        vertical-align: middle;\n",
       "    }\n",
       "\n",
       "    .dataframe tbody tr th {\n",
       "        vertical-align: top;\n",
       "    }\n",
       "\n",
       "    .dataframe thead th {\n",
       "        text-align: right;\n",
       "    }\n",
       "</style>\n",
       "<table border=\"1\" class=\"dataframe\">\n",
       "  <thead>\n",
       "    <tr style=\"text-align: right;\">\n",
       "      <th></th>\n",
       "      <th>userid</th>\n",
       "      <th>movieid</th>\n",
       "      <th>rating</th>\n",
       "      <th>timestamps</th>\n",
       "    </tr>\n",
       "  </thead>\n",
       "  <tbody>\n",
       "    <tr>\n",
       "      <th>count</th>\n",
       "      <td>100836.000000</td>\n",
       "      <td>100836.000000</td>\n",
       "      <td>100836.000000</td>\n",
       "      <td>1.008360e+05</td>\n",
       "    </tr>\n",
       "    <tr>\n",
       "      <th>mean</th>\n",
       "      <td>326.127564</td>\n",
       "      <td>19435.295718</td>\n",
       "      <td>3.501557</td>\n",
       "      <td>1.205946e+09</td>\n",
       "    </tr>\n",
       "    <tr>\n",
       "      <th>std</th>\n",
       "      <td>182.618491</td>\n",
       "      <td>35530.987199</td>\n",
       "      <td>1.042529</td>\n",
       "      <td>2.162610e+08</td>\n",
       "    </tr>\n",
       "    <tr>\n",
       "      <th>min</th>\n",
       "      <td>1.000000</td>\n",
       "      <td>1.000000</td>\n",
       "      <td>0.500000</td>\n",
       "      <td>8.281246e+08</td>\n",
       "    </tr>\n",
       "    <tr>\n",
       "      <th>25%</th>\n",
       "      <td>177.000000</td>\n",
       "      <td>1199.000000</td>\n",
       "      <td>3.000000</td>\n",
       "      <td>1.019124e+09</td>\n",
       "    </tr>\n",
       "    <tr>\n",
       "      <th>50%</th>\n",
       "      <td>325.000000</td>\n",
       "      <td>2991.000000</td>\n",
       "      <td>3.500000</td>\n",
       "      <td>1.186087e+09</td>\n",
       "    </tr>\n",
       "    <tr>\n",
       "      <th>75%</th>\n",
       "      <td>477.000000</td>\n",
       "      <td>8122.000000</td>\n",
       "      <td>4.000000</td>\n",
       "      <td>1.435994e+09</td>\n",
       "    </tr>\n",
       "    <tr>\n",
       "      <th>max</th>\n",
       "      <td>610.000000</td>\n",
       "      <td>193609.000000</td>\n",
       "      <td>5.000000</td>\n",
       "      <td>1.537799e+09</td>\n",
       "    </tr>\n",
       "  </tbody>\n",
       "</table>\n",
       "</div>"
      ],
      "text/plain": [
       "              userid        movieid         rating    timestamps\n",
       "count  100836.000000  100836.000000  100836.000000  1.008360e+05\n",
       "mean      326.127564   19435.295718       3.501557  1.205946e+09\n",
       "std       182.618491   35530.987199       1.042529  2.162610e+08\n",
       "min         1.000000       1.000000       0.500000  8.281246e+08\n",
       "25%       177.000000    1199.000000       3.000000  1.019124e+09\n",
       "50%       325.000000    2991.000000       3.500000  1.186087e+09\n",
       "75%       477.000000    8122.000000       4.000000  1.435994e+09\n",
       "max       610.000000  193609.000000       5.000000  1.537799e+09"
      ]
     },
     "execution_count": 8,
     "metadata": {},
     "output_type": "execute_result"
    }
   ],
   "source": [
    "df.describe()"
   ]
  },
  {
   "cell_type": "code",
   "execution_count": null,
   "metadata": {},
   "outputs": [],
   "source": []
  },
  {
   "cell_type": "code",
   "execution_count": null,
   "metadata": {},
   "outputs": [],
   "source": []
  }
 ],
 "metadata": {
  "kernelspec": {
   "display_name": "Python 3",
   "language": "python",
   "name": "python3"
  },
  "language_info": {
   "codemirror_mode": {
    "name": "ipython",
    "version": 3
   },
   "file_extension": ".py",
   "mimetype": "text/x-python",
   "name": "python",
   "nbconvert_exporter": "python",
   "pygments_lexer": "ipython3",
   "version": "3.6.5"
  }
 },
 "nbformat": 4,
 "nbformat_minor": 2
}
